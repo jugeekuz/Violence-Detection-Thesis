{
 "cells": [
  {
   "cell_type": "markdown",
   "metadata": {},
   "source": [
    "LRCN"
   ]
  },
  {
   "cell_type": "code",
   "execution_count": 1,
   "metadata": {},
   "outputs": [],
   "source": [
    "import tensorflow as tf\n",
    "import utilities as ut\n",
    "import importlib\n",
    "from tensorflow import keras\n",
    "from tensorflow.keras.layers import Dense, GlobalAveragePooling2D\n",
    "from tensorflow.keras.models import Model\n",
    "from tensorflow.keras import optimizers\n",
    "from tensorflow.keras.preprocessing.image import ImageDataGenerator\n",
    "from keras import layers\n",
    "from keras.models import Sequential\n",
    "from keras_preprocessing.image import array_to_img, img_to_array, load_img"
   ]
  },
  {
   "cell_type": "code",
   "execution_count": null,
   "metadata": {},
   "outputs": [],
   "source": []
  },
  {
   "cell_type": "code",
   "execution_count": 2,
   "metadata": {},
   "outputs": [],
   "source": [
    "CLASSES_LIST = [\"Fight\",\"NonFight\"]\n",
    "batch_size = 32\n",
    "SIZE = (299,299)\n",
    "SEQUENCE_LENGTH = 6"
   ]
  },
  {
   "cell_type": "code",
   "execution_count": 9,
   "metadata": {},
   "outputs": [],
   "source": [
    "import utilities2 as ut2"
   ]
  },
  {
   "cell_type": "code",
   "execution_count": 15,
   "metadata": {},
   "outputs": [
    {
     "name": "stderr",
     "output_type": "stream",
     "text": [
      "Warning, `split` argument is replaced by `split_val`, please condider to change your source code.The `split` argument will be removed in future releases.\n"
     ]
    },
    {
     "name": "stdout",
     "output_type": "stream",
     "text": [
      "class Fight, validation count: 80, train count: 721\n",
      "class NonFight, validation count: 80, train count: 720\n",
      "Total data: 2 classes for 1441 files for train\n",
      "Total data: 2 classes for 160 files for validation\n"
     ]
    }
   ],
   "source": [
    "train_gen = ut2.VideoFrameGenerator(\n",
    "    classes=CLASSES_LIST, \n",
    "    glob_pattern='./RWF-2000/train/{classname}/*.avi',\n",
    "    nb_frames=SEQUENCE_LENGTH,\n",
    "    split=.1, \n",
    "    shuffle=True,\n",
    "    batch_size=8,\n",
    "    target_shape=SIZE,\n",
    "    # transformation=preprocessor,\n",
    "    use_frame_cache=False\n",
    ")\n",
    "\n",
    "# Validation Generator\n",
    "valid_gen = train_gen.get_validation_generator()"
   ]
  },
  {
   "cell_type": "code",
   "execution_count": 11,
   "metadata": {},
   "outputs": [],
   "source": [
    "SEQUENCE_LENGTH = 6\n",
    "IMG_SIZE = 299"
   ]
  },
  {
   "cell_type": "code",
   "execution_count": null,
   "metadata": {},
   "outputs": [],
   "source": []
  }
 ],
 "metadata": {
  "kernelspec": {
   "display_name": "Python 3.9.0 ('tf2.4')",
   "language": "python",
   "name": "python3"
  },
  "language_info": {
   "codemirror_mode": {
    "name": "ipython",
    "version": 3
   },
   "file_extension": ".py",
   "mimetype": "text/x-python",
   "name": "python",
   "nbconvert_exporter": "python",
   "pygments_lexer": "ipython3",
   "version": "3.9.0"
  },
  "orig_nbformat": 4,
  "vscode": {
   "interpreter": {
    "hash": "3c2485e79e8a0fee790163025d0472c4a4ba32bd717dc5644f5dc51847a4c280"
   }
  }
 },
 "nbformat": 4,
 "nbformat_minor": 2
}
