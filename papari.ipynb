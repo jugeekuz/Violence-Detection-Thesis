{
 "cells": [
  {
   "cell_type": "code",
   "execution_count": 1,
   "metadata": {},
   "outputs": [
    {
     "name": "stderr",
     "output_type": "stream",
     "text": [
      "Using TensorFlow backend.\n",
      "c:\\Users\\tdiam\\miniconda3\\envs\\poutso\\lib\\site-packages\\tensorflow\\python\\framework\\dtypes.py:523: FutureWarning: Passing (type, 1) or '1type' as a synonym of type is deprecated; in a future version of numpy, it will be understood as (type, (1,)) / '(1,)type'.\n",
      "  _np_qint8 = np.dtype([(\"qint8\", np.int8, 1)])\n",
      "c:\\Users\\tdiam\\miniconda3\\envs\\poutso\\lib\\site-packages\\tensorflow\\python\\framework\\dtypes.py:524: FutureWarning: Passing (type, 1) or '1type' as a synonym of type is deprecated; in a future version of numpy, it will be understood as (type, (1,)) / '(1,)type'.\n",
      "  _np_quint8 = np.dtype([(\"quint8\", np.uint8, 1)])\n",
      "c:\\Users\\tdiam\\miniconda3\\envs\\poutso\\lib\\site-packages\\tensorflow\\python\\framework\\dtypes.py:525: FutureWarning: Passing (type, 1) or '1type' as a synonym of type is deprecated; in a future version of numpy, it will be understood as (type, (1,)) / '(1,)type'.\n",
      "  _np_qint16 = np.dtype([(\"qint16\", np.int16, 1)])\n",
      "c:\\Users\\tdiam\\miniconda3\\envs\\poutso\\lib\\site-packages\\tensorflow\\python\\framework\\dtypes.py:526: FutureWarning: Passing (type, 1) or '1type' as a synonym of type is deprecated; in a future version of numpy, it will be understood as (type, (1,)) / '(1,)type'.\n",
      "  _np_quint16 = np.dtype([(\"quint16\", np.uint16, 1)])\n",
      "c:\\Users\\tdiam\\miniconda3\\envs\\poutso\\lib\\site-packages\\tensorflow\\python\\framework\\dtypes.py:527: FutureWarning: Passing (type, 1) or '1type' as a synonym of type is deprecated; in a future version of numpy, it will be understood as (type, (1,)) / '(1,)type'.\n",
      "  _np_qint32 = np.dtype([(\"qint32\", np.int32, 1)])\n",
      "c:\\Users\\tdiam\\miniconda3\\envs\\poutso\\lib\\site-packages\\tensorflow\\python\\framework\\dtypes.py:532: FutureWarning: Passing (type, 1) or '1type' as a synonym of type is deprecated; in a future version of numpy, it will be understood as (type, (1,)) / '(1,)type'.\n",
      "  np_resource = np.dtype([(\"resource\", np.ubyte, 1)])\n"
     ]
    }
   ],
   "source": [
    "from keras.models import load_model"
   ]
  },
  {
   "cell_type": "code",
   "execution_count": 2,
   "metadata": {},
   "outputs": [
    {
     "name": "stderr",
     "output_type": "stream",
     "text": [
      "c:\\Users\\tdiam\\miniconda3\\envs\\poutso\\lib\\site-packages\\keras\\engine\\saving.py:292: UserWarning: No training configuration found in save file: the model was *not* compiled. Compile it manually.\n",
      "  warnings.warn('No training configuration found in save file: '\n"
     ]
    }
   ],
   "source": [
    "model = load_model('keras_model.h5')"
   ]
  },
  {
   "cell_type": "code",
   "execution_count": 3,
   "metadata": {},
   "outputs": [
    {
     "name": "stdout",
     "output_type": "stream",
     "text": [
      "__________________________________________________________________________________________________\n",
      "Layer (type)                    Output Shape         Param #     Connected to                     \n",
      "==================================================================================================\n",
      "input_1 (InputLayer)            (None, 64, 224, 224, 0                                            \n",
      "__________________________________________________________________________________________________\n",
      "lambda_1 (Lambda)               (None, 64, 224, 224, 0           input_1[0][0]                    \n",
      "__________________________________________________________________________________________________\n",
      "lambda_2 (Lambda)               (None, 64, 224, 224, 0           input_1[0][0]                    \n",
      "__________________________________________________________________________________________________\n",
      "conv3d_1 (Conv3D)               (None, 64, 224, 224, 448         lambda_1[0][0]                   \n",
      "__________________________________________________________________________________________________\n",
      "conv3d_9 (Conv3D)               (None, 64, 224, 224, 304         lambda_2[0][0]                   \n",
      "__________________________________________________________________________________________________\n",
      "conv3d_2 (Conv3D)               (None, 64, 224, 224, 784         conv3d_1[0][0]                   \n",
      "__________________________________________________________________________________________________\n",
      "conv3d_10 (Conv3D)              (None, 64, 224, 224, 784         conv3d_9[0][0]                   \n",
      "__________________________________________________________________________________________________\n",
      "max_pooling3d_1 (MaxPooling3D)  (None, 64, 112, 112, 0           conv3d_2[0][0]                   \n",
      "__________________________________________________________________________________________________\n",
      "max_pooling3d_5 (MaxPooling3D)  (None, 64, 112, 112, 0           conv3d_10[0][0]                  \n",
      "__________________________________________________________________________________________________\n",
      "conv3d_3 (Conv3D)               (None, 64, 112, 112, 2320        max_pooling3d_1[0][0]            \n",
      "__________________________________________________________________________________________________\n",
      "conv3d_11 (Conv3D)              (None, 64, 112, 112, 2320        max_pooling3d_5[0][0]            \n",
      "__________________________________________________________________________________________________\n",
      "conv3d_4 (Conv3D)               (None, 64, 112, 112, 784         conv3d_3[0][0]                   \n",
      "__________________________________________________________________________________________________\n",
      "conv3d_12 (Conv3D)              (None, 64, 112, 112, 784         conv3d_11[0][0]                  \n",
      "__________________________________________________________________________________________________\n",
      "max_pooling3d_2 (MaxPooling3D)  (None, 64, 56, 56, 1 0           conv3d_4[0][0]                   \n",
      "__________________________________________________________________________________________________\n",
      "max_pooling3d_6 (MaxPooling3D)  (None, 64, 56, 56, 1 0           conv3d_12[0][0]                  \n",
      "__________________________________________________________________________________________________\n",
      "conv3d_5 (Conv3D)               (None, 64, 56, 56, 3 4640        max_pooling3d_2[0][0]            \n",
      "__________________________________________________________________________________________________\n",
      "conv3d_13 (Conv3D)              (None, 64, 56, 56, 3 4640        max_pooling3d_6[0][0]            \n",
      "__________________________________________________________________________________________________\n",
      "conv3d_6 (Conv3D)               (None, 64, 56, 56, 3 3104        conv3d_5[0][0]                   \n",
      "__________________________________________________________________________________________________\n",
      "conv3d_14 (Conv3D)              (None, 64, 56, 56, 3 3104        conv3d_13[0][0]                  \n",
      "__________________________________________________________________________________________________\n",
      "max_pooling3d_3 (MaxPooling3D)  (None, 64, 28, 28, 3 0           conv3d_6[0][0]                   \n",
      "__________________________________________________________________________________________________\n",
      "max_pooling3d_7 (MaxPooling3D)  (None, 64, 28, 28, 3 0           conv3d_14[0][0]                  \n",
      "__________________________________________________________________________________________________\n",
      "conv3d_7 (Conv3D)               (None, 64, 28, 28, 3 9248        max_pooling3d_3[0][0]            \n",
      "__________________________________________________________________________________________________\n",
      "conv3d_15 (Conv3D)              (None, 64, 28, 28, 3 9248        max_pooling3d_7[0][0]            \n",
      "__________________________________________________________________________________________________\n",
      "conv3d_8 (Conv3D)               (None, 64, 28, 28, 3 3104        conv3d_7[0][0]                   \n",
      "__________________________________________________________________________________________________\n",
      "conv3d_16 (Conv3D)              (None, 64, 28, 28, 3 3104        conv3d_15[0][0]                  \n",
      "__________________________________________________________________________________________________\n",
      "max_pooling3d_4 (MaxPooling3D)  (None, 64, 14, 14, 3 0           conv3d_8[0][0]                   \n",
      "__________________________________________________________________________________________________\n",
      "max_pooling3d_8 (MaxPooling3D)  (None, 64, 14, 14, 3 0           conv3d_16[0][0]                  \n",
      "__________________________________________________________________________________________________\n",
      "multiply_1 (Multiply)           (None, 64, 14, 14, 3 0           max_pooling3d_4[0][0]            \n",
      "                                                                 max_pooling3d_8[0][0]            \n",
      "__________________________________________________________________________________________________\n",
      "max_pooling3d_9 (MaxPooling3D)  (None, 8, 14, 14, 32 0           multiply_1[0][0]                 \n",
      "__________________________________________________________________________________________________\n",
      "conv3d_17 (Conv3D)              (None, 8, 14, 14, 64 18496       max_pooling3d_9[0][0]            \n",
      "__________________________________________________________________________________________________\n",
      "conv3d_18 (Conv3D)              (None, 8, 14, 14, 64 12352       conv3d_17[0][0]                  \n",
      "__________________________________________________________________________________________________\n",
      "max_pooling3d_10 (MaxPooling3D) (None, 4, 7, 7, 64)  0           conv3d_18[0][0]                  \n",
      "__________________________________________________________________________________________________\n",
      "conv3d_19 (Conv3D)              (None, 4, 7, 7, 64)  36928       max_pooling3d_10[0][0]           \n",
      "__________________________________________________________________________________________________\n",
      "conv3d_20 (Conv3D)              (None, 4, 7, 7, 64)  12352       conv3d_19[0][0]                  \n",
      "__________________________________________________________________________________________________\n",
      "max_pooling3d_11 (MaxPooling3D) (None, 2, 3, 3, 64)  0           conv3d_20[0][0]                  \n",
      "__________________________________________________________________________________________________\n",
      "conv3d_21 (Conv3D)              (None, 2, 3, 3, 128) 73856       max_pooling3d_11[0][0]           \n",
      "__________________________________________________________________________________________________\n",
      "conv3d_22 (Conv3D)              (None, 2, 3, 3, 128) 49280       conv3d_21[0][0]                  \n",
      "__________________________________________________________________________________________________\n",
      "max_pooling3d_12 (MaxPooling3D) (None, 1, 1, 1, 128) 0           conv3d_22[0][0]                  \n",
      "__________________________________________________________________________________________________\n",
      "flatten_1 (Flatten)             (None, 128)          0           max_pooling3d_12[0][0]           \n",
      "__________________________________________________________________________________________________\n",
      "dense_1 (Dense)                 (None, 128)          16512       flatten_1[0][0]                  \n",
      "__________________________________________________________________________________________________\n",
      "dropout_1 (Dropout)             (None, 128)          0           dense_1[0][0]                    \n",
      "__________________________________________________________________________________________________\n",
      "dense_2 (Dense)                 (None, 32)           4128        dropout_1[0][0]                  \n",
      "__________________________________________________________________________________________________\n",
      "dense_3 (Dense)                 (None, 2)            66          dense_2[0][0]                    \n",
      "==================================================================================================\n",
      "Total params: 272,690\n",
      "Trainable params: 272,690\n",
      "Non-trainable params: 0\n",
      "__________________________________________________________________________________________________\n"
     ]
    }
   ],
   "source": [
    "model.summary()"
   ]
  },
  {
   "cell_type": "code",
   "execution_count": 4,
   "metadata": {},
   "outputs": [
    {
     "name": "stdout",
     "output_type": "stream",
     "text": [
      "0 <keras.engine.input_layer.InputLayer object at 0x000001D280A607F0>\n",
      "   no activation attribute\n",
      "1 <keras.layers.core.Lambda object at 0x000001D280A60B70>\n",
      "   no activation attribute\n",
      "2 <keras.layers.core.Lambda object at 0x000001D280A60BE0>\n",
      "   no activation attribute\n",
      "3 <keras.layers.convolutional.Conv3D object at 0x000001D280A60CC0>\n",
      "     <function relu at 0x000001D2809896A8>\n",
      "4 <keras.layers.convolutional.Conv3D object at 0x000001D280A8E080>\n",
      "     <function relu at 0x000001D2809896A8>\n",
      "5 <keras.layers.convolutional.Conv3D object at 0x000001D280A8E208>\n",
      "     <function relu at 0x000001D2809896A8>\n",
      "6 <keras.layers.convolutional.Conv3D object at 0x000001D280A8E390>\n",
      "     <function relu at 0x000001D2809896A8>\n",
      "7 <keras.layers.pooling.MaxPooling3D object at 0x000001D280A8E518>\n",
      "   no activation attribute\n",
      "8 <keras.layers.pooling.MaxPooling3D object at 0x000001D280A8E5C0>\n",
      "   no activation attribute\n",
      "9 <keras.layers.convolutional.Conv3D object at 0x000001D280A8E668>\n",
      "     <function relu at 0x000001D2809896A8>\n",
      "10 <keras.layers.convolutional.Conv3D object at 0x000001D280A8E7F0>\n",
      "     <function relu at 0x000001D2809896A8>\n",
      "11 <keras.layers.convolutional.Conv3D object at 0x000001D280A8E978>\n",
      "     <function relu at 0x000001D2809896A8>\n",
      "12 <keras.layers.convolutional.Conv3D object at 0x000001D280A8EB00>\n",
      "     <function relu at 0x000001D2809896A8>\n",
      "13 <keras.layers.pooling.MaxPooling3D object at 0x000001D280A8EC88>\n",
      "   no activation attribute\n",
      "14 <keras.layers.pooling.MaxPooling3D object at 0x000001D280A8ED30>\n",
      "   no activation attribute\n",
      "15 <keras.layers.convolutional.Conv3D object at 0x000001D280A8EDD8>\n",
      "     <function relu at 0x000001D2809896A8>\n",
      "16 <keras.layers.convolutional.Conv3D object at 0x000001D280A8EF60>\n",
      "     <function relu at 0x000001D2809896A8>\n",
      "17 <keras.layers.convolutional.Conv3D object at 0x000001D280A95128>\n",
      "     <function relu at 0x000001D2809896A8>\n",
      "18 <keras.layers.convolutional.Conv3D object at 0x000001D280A952B0>\n",
      "     <function relu at 0x000001D2809896A8>\n",
      "19 <keras.layers.pooling.MaxPooling3D object at 0x000001D280A95438>\n",
      "   no activation attribute\n",
      "20 <keras.layers.pooling.MaxPooling3D object at 0x000001D280A954E0>\n",
      "   no activation attribute\n",
      "21 <keras.layers.convolutional.Conv3D object at 0x000001D280A95588>\n",
      "     <function relu at 0x000001D2809896A8>\n",
      "22 <keras.layers.convolutional.Conv3D object at 0x000001D280A95710>\n",
      "     <function sigmoid at 0x000001D2809897B8>\n",
      "23 <keras.layers.convolutional.Conv3D object at 0x000001D280A95898>\n",
      "     <function relu at 0x000001D2809896A8>\n",
      "24 <keras.layers.convolutional.Conv3D object at 0x000001D280A95A20>\n",
      "     <function sigmoid at 0x000001D2809897B8>\n",
      "25 <keras.layers.pooling.MaxPooling3D object at 0x000001D280A95BA8>\n",
      "   no activation attribute\n",
      "26 <keras.layers.pooling.MaxPooling3D object at 0x000001D280A95C50>\n",
      "   no activation attribute\n",
      "27 <keras.layers.merge.Multiply object at 0x000001D280A95CF8>\n",
      "   no activation attribute\n",
      "28 <keras.layers.pooling.MaxPooling3D object at 0x000001D280A95D30>\n",
      "   no activation attribute\n",
      "29 <keras.layers.convolutional.Conv3D object at 0x000001D280A95DD8>\n",
      "     <function relu at 0x000001D2809896A8>\n",
      "30 <keras.layers.convolutional.Conv3D object at 0x000001D280A95F60>\n",
      "     <function relu at 0x000001D2809896A8>\n",
      "31 <keras.layers.pooling.MaxPooling3D object at 0x000001D280A9D128>\n",
      "   no activation attribute\n",
      "32 <keras.layers.convolutional.Conv3D object at 0x000001D280A9D1D0>\n",
      "     <function relu at 0x000001D2809896A8>\n",
      "33 <keras.layers.convolutional.Conv3D object at 0x000001D280A9D358>\n",
      "     <function relu at 0x000001D2809896A8>\n",
      "34 <keras.layers.pooling.MaxPooling3D object at 0x000001D280A9D4E0>\n",
      "   no activation attribute\n",
      "35 <keras.layers.convolutional.Conv3D object at 0x000001D280A9D588>\n",
      "     <function relu at 0x000001D2809896A8>\n",
      "36 <keras.layers.convolutional.Conv3D object at 0x000001D280A9D710>\n",
      "     <function relu at 0x000001D2809896A8>\n",
      "37 <keras.layers.pooling.MaxPooling3D object at 0x000001D280A9D898>\n",
      "   no activation attribute\n",
      "38 <keras.layers.core.Flatten object at 0x000001D280A9D940>\n",
      "   no activation attribute\n",
      "39 <keras.layers.core.Dense object at 0x000001D280A9D9B0>\n",
      "     <function relu at 0x000001D2809896A8>\n",
      "40 <keras.layers.core.Dropout object at 0x000001D280A9DB00>\n",
      "   no activation attribute\n",
      "41 <keras.layers.core.Dense object at 0x000001D280A9DB38>\n",
      "     <function relu at 0x000001D2809896A8>\n",
      "42 <keras.layers.core.Dense object at 0x000001D280A9DC88>\n",
      "     <function softmax at 0x000001D280989400>\n"
     ]
    }
   ],
   "source": [
    "for i, layer in enumerate (model.layers):\n",
    "    print (i, layer)\n",
    "    try:\n",
    "        print (\"    \",layer.activation)\n",
    "    except AttributeError:\n",
    "        print('   no activation attribute')"
   ]
  },
  {
   "cell_type": "code",
   "execution_count": 12,
   "metadata": {},
   "outputs": [],
   "source": [
    "model.save('test.hdf5')"
   ]
  },
  {
   "cell_type": "code",
   "execution_count": 8,
   "metadata": {},
   "outputs": [
    {
     "data": {
      "text/plain": [
       "<tf.Operation 'init_1' type=NoOp>"
      ]
     },
     "execution_count": 8,
     "metadata": {},
     "output_type": "execute_result"
    }
   ],
   "source": [
    "tf.global_variables_initializer()"
   ]
  }
 ],
 "metadata": {
  "kernelspec": {
   "display_name": "Python 2.7.18 ('poutso')",
   "language": "python",
   "name": "python3"
  },
  "language_info": {
   "codemirror_mode": {
    "name": "ipython",
    "version": 3
   },
   "file_extension": ".py",
   "mimetype": "text/x-python",
   "name": "python",
   "nbconvert_exporter": "python",
   "pygments_lexer": "ipython3",
   "version": "3.6.13"
  },
  "orig_nbformat": 4,
  "vscode": {
   "interpreter": {
    "hash": "f9753483d00796505749a9d0cbbc246e8a9aab85682dbb1a088f5f97daa51d03"
   }
  }
 },
 "nbformat": 4,
 "nbformat_minor": 2
}
